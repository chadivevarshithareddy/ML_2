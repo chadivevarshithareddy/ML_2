{
 "cells": [
  {
   "cell_type": "code",
   "execution_count": 1,
   "id": "da3b25e0",
   "metadata": {},
   "outputs": [
    {
     "name": "stdout",
     "output_type": "stream",
     "text": [
      "*\n",
      "**\n",
      "***\n",
      "****\n",
      "*****\n",
      "****\n",
      "***\n",
      "**\n",
      "*\n"
     ]
    }
   ],
   "source": [
    "for i in range(1,6): #initializing a loop to print first five rows\n",
    "    print(\"*\"*i) #printing first five rows of the pattern\n",
    "for j in range(4,0,-1): #initializing for loop to print last four rows\n",
    "    print(\"*\"*j) #printing the last four rows in the pattern "
   ]
  },
  {
   "cell_type": "code",
   "execution_count": 2,
   "id": "b0aed5df",
   "metadata": {},
   "outputs": [
    {
     "name": "stdout",
     "output_type": "stream",
     "text": [
      "10\n",
      "30\n",
      "50\n",
      "70\n",
      "90\n"
     ]
    }
   ],
   "source": [
    "my_list=[10,20,30,40,50,60,70,80,90,100] #initializing a list\n",
    "for i in range(0,10,2): #initializing a loop to extract elements from the list\n",
    "    print(my_list[i]) #printing the odd index elements from the list"
   ]
  },
  {
   "cell_type": "code",
   "execution_count": 3,
   "id": "5d2518bb",
   "metadata": {},
   "outputs": [
    {
     "name": "stdout",
     "output_type": "stream",
     "text": [
      "[23, 'Python', 23.98]\n",
      "[<class 'int'>, <class 'str'>, <class 'float'>]\n"
     ]
    }
   ],
   "source": [
    "x=[23,'Python',23.98] #initializing list x\n",
    "print(x) #Printing the list x\n",
    "type_list=[] #creating a new list type_list\n",
    "#initializing a loop to extract elements from the list\n",
    "for i in x:\n",
    "    type_list.append(type(i)) #finding the type of element in the list\n",
    "print(type_list) #printing the list which has the element type"
   ]
  },
  {
   "cell_type": "code",
   "execution_count": 4,
   "id": "a5e08eea",
   "metadata": {},
   "outputs": [
    {
     "name": "stdout",
     "output_type": "stream",
     "text": [
      "[1, 2, 3, 4, 5]\n"
     ]
    }
   ],
   "source": [
    "sample_list=[1,2,3,3,3,4,5] #initializing the sample_list\n",
    "unique=set(sample_list) #converting the list into set in order to find the unique elements\n",
    "unique_list=list(unique) #converting the set again into list\n",
    "print(unique_list) #printing the list which contain unique elements"
   ]
  },
  {
   "cell_type": "code",
   "execution_count": 5,
   "id": "5ff98608",
   "metadata": {},
   "outputs": [
    {
     "name": "stdout",
     "output_type": "stream",
     "text": [
      "Enter your string: The quick Brow Fox\n",
      "No. Uppper-case characters: 3\n",
      "No. Lower-case characters: 12\n"
     ]
    }
   ],
   "source": [
    "#Askinh the user to enter the string and assigning it to 's'\n",
    "s=input(\"Enter your string: \")\n",
    "#initializing the upper_count and lower_count to 0\n",
    "upper_count=lower_count=0\n",
    "#initializing a loop to extract elements from string\n",
    "for i in s:\n",
    "    if i.isupper(): #Checking weather the element is in uppercase\n",
    "        upper_count+=1 #increasing the upper_count\n",
    "    elif i.islower(): #Checking weather the element is in lowercase\n",
    "        lower_count+=1 #increasing the lower_count\n",
    "#printing the number of upper and lower counts\n",
    "print('No. Uppper-case characters:',upper_count) \n",
    "print('No. Lower-case characters:',lower_count)"
   ]
  },
  {
   "cell_type": "code",
   "execution_count": null,
   "id": "040df2cd",
   "metadata": {},
   "outputs": [],
   "source": []
  }
 ],
 "metadata": {
  "kernelspec": {
   "display_name": "Python 3 (ipykernel)",
   "language": "python",
   "name": "python3"
  },
  "language_info": {
   "codemirror_mode": {
    "name": "ipython",
    "version": 3
   },
   "file_extension": ".py",
   "mimetype": "text/x-python",
   "name": "python",
   "nbconvert_exporter": "python",
   "pygments_lexer": "ipython3",
   "version": "3.9.13"
  }
 },
 "nbformat": 4,
 "nbformat_minor": 5
}
